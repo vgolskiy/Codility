{
 "cells": [
  {
   "cell_type": "code",
   "execution_count": 142,
   "metadata": {},
   "outputs": [
    {
     "name": "stdout",
     "output_type": "stream",
     "text": [
      "Input number:1001\n",
      "Standard number:  1001 \n",
      "\n",
      "Double number:  1111101001\n",
      "Max_Binary gap: 2\n"
     ]
    }
   ],
   "source": [
    "#make it double!\n",
    "import re\n",
    "\n",
    "n = int(input('Input number:'))\n",
    "print('Standard number: ', n,'\\n')\n",
    "a = ''\n",
    "\n",
    "while n > 0:\n",
    "    a = a + str(n%2)\n",
    "    n = n//2\n",
    "    \n",
    "print('Double number: ', a[::-1])\n",
    "\n",
    "tmp = re.findall(r'1*0+1*', a[::-1])\n",
    "bin_gap =[]\n",
    "\n",
    "for item in tmp:\n",
    "    if re.findall(r'1*(0+)1+', item) != []:\n",
    "        bin_gap.append(re.findall(r'1*(0+)1+', item))\n",
    "\n",
    "if len(bin_gap)>0:\n",
    "    print('Max_Binary gap:', len(max(bin_gap)[0]))\n",
    "else: print('Max_Binary gap:', 0)"
   ]
  },
  {
   "cell_type": "code",
   "execution_count": 159,
   "metadata": {},
   "outputs": [
    {
     "data": {
      "text/plain": [
       "[9, 7, 6, 3, 8]"
      ]
     },
     "execution_count": 159,
     "metadata": {},
     "output_type": "execute_result"
    }
   ],
   "source": [
    "#rotate it K times!\n",
    "\n",
    "a = [3, 8, 9, 7, 6]\n",
    "K = 3\n",
    "\n",
    "for i in range(K):\n",
    "    for j in range(len(a)-1):\n",
    "        a[len(a)-2 - j], a[len(a)-1-j] = a[len(a)-1-j], a[len(a)-2 - j]\n",
    "        \n",
    "a"
   ]
  },
  {
   "cell_type": "code",
   "execution_count": 217,
   "metadata": {},
   "outputs": [
    {
     "data": {
      "text/plain": [
       "7"
      ]
     },
     "execution_count": 217,
     "metadata": {},
     "output_type": "execute_result"
    }
   ],
   "source": [
    "#find unpaired number in array (it's only one)\n",
    "\n",
    "def solution(A):\n",
    "    import collections\n",
    "    res = [item for item, count in collections.Counter(A).items() if count%2 == 1]\n",
    "    return res[0]\n",
    "\n",
    "A = [9, 3, 9, 3, 9, 7, 9]\n",
    "solution(A)"
   ]
  },
  {
   "cell_type": "code",
   "execution_count": 315,
   "metadata": {},
   "outputs": [
    {
     "data": {
      "text/plain": [
       "5"
      ]
     },
     "execution_count": 315,
     "metadata": {},
     "output_type": "execute_result"
    }
   ],
   "source": [
    "#find lost number\n",
    "\n",
    "def solution(a):\n",
    "    item = 1\n",
    "    if len(a)>1:\n",
    "        a = sorted(a)\n",
    "        if a[0] == 1:\n",
    "            while item in a and item <= 100000:\n",
    "                item = item + 1\n",
    "            else: res = item\n",
    "        else: res = 1\n",
    "    elif len(a) == 1 and a[0] == 1: res = 2\n",
    "    else: res = 1\n",
    "    return res\n",
    "\n",
    "a = [1, 2, 3, 4]\n",
    "\n",
    "solution(a)"
   ]
  },
  {
   "cell_type": "code",
   "execution_count": 313,
   "metadata": {},
   "outputs": [
    {
     "data": {
      "text/plain": [
       "1"
      ]
     },
     "execution_count": 313,
     "metadata": {},
     "output_type": "execute_result"
    }
   ],
   "source": [
    "#find lost number\n",
    "\n",
    "def solution(a):\n",
    "    if len(a)>1:\n",
    "        a = sorted(a)\n",
    "        if a[0] == 1:\n",
    "            for i in range(len(a)-1):\n",
    "                if a[i+1]-a[i]>1 and a[i+1] <= 100000:\n",
    "                    res = a[i] + 1\n",
    "                    break\n",
    "                else: res = max(a) + 1\n",
    "        else: res = 1\n",
    "    elif len(a) == 1 and a[0] == 1: res = 2\n",
    "    else: res = 1\n",
    "    return res\n",
    "\n",
    "a = [3, 2]\n",
    "\n",
    "solution(a)"
   ]
  },
  {
   "cell_type": "code",
   "execution_count": 252,
   "metadata": {},
   "outputs": [
    {
     "data": {
      "text/plain": [
       "0"
      ]
     },
     "execution_count": 252,
     "metadata": {},
     "output_type": "execute_result"
    }
   ],
   "source": [
    "#number of jumps to position\n",
    "\n",
    "def solution(x, y, d):\n",
    "    dist = y-x\n",
    "\n",
    "    if dist%d == 0:\n",
    "        res = dist//d\n",
    "    else: res = dist//d + 1\n",
    "    \n",
    "    return res"
   ]
  },
  {
   "cell_type": "code",
   "execution_count": 268,
   "metadata": {},
   "outputs": [
    {
     "data": {
      "text/plain": [
       "2"
      ]
     },
     "execution_count": 268,
     "metadata": {},
     "output_type": "execute_result"
    }
   ],
   "source": [
    "#split the tape to minimal num\n",
    "\n",
    "a = [3, 1]\n",
    "\n",
    "tmp = []\n",
    "if len(a)>2:\n",
    "    for i in range(1, len(a)-1):\n",
    "        tmp.append(abs(sum(a[:i]) - sum(a[i:])))\n",
    "    res = min(tmp)\n",
    "else: \n",
    "    res = max(a) - min(a)\n",
    "\n",
    "res"
   ]
  },
  {
   "cell_type": "code",
   "execution_count": 298,
   "metadata": {},
   "outputs": [
    {
     "data": {
      "text/plain": [
       "-1"
      ]
     },
     "execution_count": 298,
     "metadata": {},
     "output_type": "execute_result"
    }
   ],
   "source": [
    "#min time to get to position thrue all other steps\n",
    "\n",
    "a = [1, 3, 1, 4, 3, 5, 4]\n",
    "x = 5\n",
    "\n",
    "def solution(x, a):\n",
    "    res = 0\n",
    "    step = 1\n",
    "\n",
    "    while step <= x:\n",
    "        try:\n",
    "            tmp = a.index(step)\n",
    "            if tmp>res: res = tmp\n",
    "            step = step+1\n",
    "        except: \n",
    "            res = -1\n",
    "            step = x+1\n",
    "    return res\n",
    "\n",
    "solution(x, a)"
   ]
  },
  {
   "cell_type": "code",
   "execution_count": 306,
   "metadata": {},
   "outputs": [
    {
     "data": {
      "text/plain": [
       "0"
      ]
     },
     "execution_count": 306,
     "metadata": {},
     "output_type": "execute_result"
    }
   ],
   "source": [
    "#array permutation verification\n",
    "\n",
    "a = [1, 3, 1, 4, 3, 5, 4]\n",
    "\n",
    "def solution(a):\n",
    "    if len(a)>1:\n",
    "        a = sorted(a)\n",
    "        if a[0] == 1:\n",
    "            for i in range(len(a)-1):\n",
    "                if (a[i+1]-a[i]) == 1 and a[i+1] <= 100000:\n",
    "                    res = 1\n",
    "                else: \n",
    "                    res = 0\n",
    "                    break\n",
    "        else: res = 0 \n",
    "    elif a[0] == 1: res = 1\n",
    "    else: res = 0 \n",
    "    return res\n",
    "\n",
    "solution(a)"
   ]
  },
  {
   "cell_type": "code",
   "execution_count": null,
   "metadata": {},
   "outputs": [],
   "source": [
    "#find lost number\n",
    "\n",
    "def solution(a):\n",
    "    a = set(a)\n",
    "    a = sorted([elem for elem in a if elem > 0])\n",
    "    \n",
    "    if a != []:\n",
    "        item = 1\n",
    "        while item in a and item < 100000:\n",
    "            item = item + 1\n",
    "        else: res = item\n",
    "    else: res = 1\n",
    "    return res"
   ]
  },
  {
   "cell_type": "code",
   "execution_count": null,
   "metadata": {},
   "outputs": [],
   "source": [
    "#find lost number\n",
    "\n",
    "def solution(a):\n",
    "    a = set(a)\n",
    "    a = sorted([elem for elem in a if elem > 0])\n",
    "    \n",
    "    if a != []:\n",
    "        if len(a)>1:\n",
    "            if a[0] ==1:\n",
    "                for i in range(len(a)-1):\n",
    "                    if (a[i+1]-a[i]) != 1 or a[i+1] > 100000:\n",
    "                        res = a[i] + 1\n",
    "                        break\n",
    "                    else: res = max(a) + 1\n",
    "            else: res = 1\n",
    "        elif a[0] == 1: res = 2\n",
    "        else: res = 1\n",
    "    else: res = 1\n",
    "    return res"
   ]
  },
  {
   "cell_type": "code",
   "execution_count": 348,
   "metadata": {},
   "outputs": [
    {
     "data": {
      "text/plain": [
       "5"
      ]
     },
     "execution_count": 348,
     "metadata": {},
     "output_type": "execute_result"
    }
   ],
   "source": [
    "#count cars pairs\n",
    "\n",
    "a = [0,1,0,1,1]\n",
    "    \n",
    "def solution(a):\n",
    "    k = 0\n",
    "    \n",
    "    for i in range(len(a)-1):\n",
    "        for j in range(i+1, len(a)):\n",
    "            if a[j] != a[i] and a[i] == a[0] and k <= 1000000000:\n",
    "                k = k + 1\n",
    "            elif k > 1000000000:\n",
    "                k = -1\n",
    "                break\n",
    "            elif a[j] == a[i] or a[i] != a[0]: continue\n",
    "    return k\n",
    "\n",
    "solution(a)"
   ]
  },
  {
   "cell_type": "code",
   "execution_count": null,
   "metadata": {},
   "outputs": [],
   "source": [
    "#DNA impact counter\n",
    "\n",
    "def solution(stroka, start, end):\n",
    "    elem = ('A', 'C', 'G', 'T')\n",
    "    value = (1, 2, 3, 4)\n",
    "    res = []\n",
    "    i = 0\n",
    "    while i in range(len(start)):\n",
    "        impact = 4\n",
    "        stroka_set = set(stroka[start[i]:end[i]+1])\n",
    "        for char in stroka_set:\n",
    "            if value[elem.index(char)] < impact:\n",
    "                impact = value[elem.index(char)]\n",
    "            if impact == 1:\n",
    "                break\n",
    "        res.append(impact)\n",
    "        i = i + 1\n",
    "    \n",
    "    return res"
   ]
  },
  {
   "cell_type": "code",
   "execution_count": 393,
   "metadata": {},
   "outputs": [
    {
     "name": "stdout",
     "output_type": "stream",
     "text": [
      "[2, 3, 2, 3, 9] 3.8 0\n",
      "[3, 2, 3] 2.6666666666666665 1\n",
      "[3, 2] 2.5 1\n",
      "[2, 3] 2.5 2\n",
      "[2, 3] 2.5 1\n",
      "[2, 3, 2] 2.3333333333333335 2\n",
      "[2, 3, 2, 3] 2.5 3\n",
      "[3, 9] 6.0 1\n",
      "[2, 3, 9] 4.666666666666667 2\n",
      "[3, 2, 3, 9] 4.25 3\n"
     ]
    },
    {
     "data": {
      "text/plain": [
       "0"
      ]
     },
     "execution_count": 393,
     "metadata": {},
     "output_type": "execute_result"
    }
   ],
   "source": [
    "#min avg split for array\n",
    "\n",
    "def solution(a):\n",
    "    length = len(a)\n",
    "    if length>2:\n",
    "        avg = [10000 for rows in range(4)]\n",
    "        index = [0 for rows in range(4)]\n",
    "        #bottom to center\n",
    "        for i in range(int(length/2)):\n",
    "            tmp = sum(a[i:length - i])/(length - 2*i)\n",
    "            print(a[i:length - i], tmp, i)\n",
    "            if tmp < avg[0]:\n",
    "                avg[0] = tmp\n",
    "                index[0] = i\n",
    "        #pairs from the second tho the last -1\n",
    "        for i in range(1,length - 2):\n",
    "            tmp = sum(a[i:i + 2])/2\n",
    "            print(a[i:i + 2], tmp, i)\n",
    "            if tmp < avg[1]:\n",
    "                avg[1] = tmp\n",
    "                index[1] = i \n",
    "        #from left to last -1\n",
    "        for i in range(1, length - 1):\n",
    "            tmp = sum(a[:i + 1])/(i + 1)\n",
    "            print(a[:i + 1], tmp, i)\n",
    "            if tmp < avg[2]:\n",
    "                avg[2] = tmp\n",
    "                index[2] = 0\n",
    "        #from right to first -1\n",
    "        for i in range(1, length - 1):\n",
    "            tmp = sum(a[length - 1 - i:])/(i + 1)\n",
    "            print(a[length - 1 - i:], tmp, i)\n",
    "            if tmp <= avg[3]:\n",
    "                avg[3] = tmp\n",
    "                index[3] = length - (length - i)\n",
    "        res = sorted([i for i, average in zip(index, avg) if average == min(avg)])[0]\n",
    "    else: res = 0\n",
    "    return res\n",
    "        \n",
    "#a = [-10000, 10000] \n",
    "a = [2, 3, 2, 3, 9]\n",
    "\n",
    "solution(a)"
   ]
  },
  {
   "cell_type": "code",
   "execution_count": null,
   "metadata": {},
   "outputs": [],
   "source": [
    "#return count of numbers divided by 2 between named numbers\n",
    "#50% because of performance\n",
    "def solution(a, b, k):\n",
    "    i = a\n",
    "    j = 0\n",
    "    while a<=i<=b:\n",
    "        if i%k == 0:\n",
    "            j = j + 1\n",
    "        i = i + 1\n",
    "    return j\n",
    "\n",
    "#50% however faster\n",
    "def solution(a, b, k):\n",
    "    res = (len([x for x in range(a, b + 1) if x%k == 0]))          \n",
    "    return res"
   ]
  },
  {
   "cell_type": "code",
   "execution_count": 401,
   "metadata": {},
   "outputs": [
    {
     "data": {
      "text/plain": [
       "8"
      ]
     },
     "execution_count": 401,
     "metadata": {},
     "output_type": "execute_result"
    }
   ],
   "source": [
    "#62% - my limit\n",
    "def solution(a, b, k):\n",
    "    if a < k and b > k and a%k !=0: a = k\n",
    "    if a > k and a%k !=0: \n",
    "        while a%k !=0:\n",
    "            a = a + 1\n",
    "\n",
    "    res = (len([x for x in range(a, b + 1, k) if x%k == 0]))\n",
    "\n",
    "    return res\n",
    "\n",
    "solution(a = 0, b = 14, k = 2)"
   ]
  },
  {
   "cell_type": "code",
   "execution_count": 407,
   "metadata": {},
   "outputs": [
    {
     "data": {
      "text/plain": [
       "0"
      ]
     },
     "execution_count": 407,
     "metadata": {},
     "output_type": "execute_result"
    }
   ],
   "source": [
    "#properly nested string 100% accuracy\n",
    "\n",
    "def solution(s):\n",
    "    open_list = [\"(\", \"{\", \"[\"]\n",
    "    close_list = [\")\", \"}\", \"]\"]\n",
    "    \n",
    "    tmp = []\n",
    "    res = 1\n",
    "    \n",
    "    if s != '':\n",
    "        if (s[0] in close_list):\n",
    "            res = 0\n",
    "        else:    \n",
    "            for char in s:\n",
    "                if char in open_list:\n",
    "                    tmp.append(char)\n",
    "                else:\n",
    "                    if tmp != []:\n",
    "                        if tmp.pop() != open_list[close_list.index(char)]:\n",
    "                            res = 0\n",
    "                            break\n",
    "                        else: next\n",
    "                    else:\n",
    "                        res = 0\n",
    "                        break\n",
    "\n",
    "    if tmp == [] and res == 1:\n",
    "        res = 1\n",
    "    else: res = 0\n",
    "    \n",
    "    return res\n",
    "\n",
    "s = '' \n",
    "solution(s)"
   ]
  },
  {
   "cell_type": "code",
   "execution_count": null,
   "metadata": {},
   "outputs": [],
   "source": []
  }
 ],
 "metadata": {
  "kernelspec": {
   "display_name": "Python 3",
   "language": "python",
   "name": "python3"
  },
  "language_info": {
   "codemirror_mode": {
    "name": "ipython",
    "version": 3
   },
   "file_extension": ".py",
   "mimetype": "text/x-python",
   "name": "python",
   "nbconvert_exporter": "python",
   "pygments_lexer": "ipython3",
   "version": "3.6.4"
  }
 },
 "nbformat": 4,
 "nbformat_minor": 2
}
