{
 "cells": [
  {
   "cell_type": "code",
   "execution_count": 142,
   "metadata": {},
   "outputs": [
    {
     "name": "stdout",
     "output_type": "stream",
     "text": [
      "Input number:1001\n",
      "Standard number:  1001 \n",
      "\n",
      "Double number:  1111101001\n",
      "Max_Binary gap: 2\n"
     ]
    }
   ],
   "source": [
    "#make it double!\n",
    "import re\n",
    "\n",
    "n = int(input('Input number:'))\n",
    "print('Standard number: ', n,'\\n')\n",
    "a = ''\n",
    "\n",
    "while n > 0:\n",
    "    a = a + str(n%2)\n",
    "    n = n//2\n",
    "    \n",
    "print('Double number: ', a[::-1])\n",
    "\n",
    "tmp = re.findall(r'1*0+1*', a[::-1])\n",
    "bin_gap =[]\n",
    "\n",
    "for item in tmp:\n",
    "    if re.findall(r'1*(0+)1+', item) != []:\n",
    "        bin_gap.append(re.findall(r'1*(0+)1+', item))\n",
    "\n",
    "if len(bin_gap)>0:\n",
    "    print('Max_Binary gap:', len(max(bin_gap)[0]))\n",
    "else: print('Max_Binary gap:', 0)"
   ]
  },
  {
   "cell_type": "code",
   "execution_count": 159,
   "metadata": {},
   "outputs": [
    {
     "data": {
      "text/plain": [
       "[9, 7, 6, 3, 8]"
      ]
     },
     "execution_count": 159,
     "metadata": {},
     "output_type": "execute_result"
    }
   ],
   "source": [
    "#rotate it K times!\n",
    "\n",
    "a = [3, 8, 9, 7, 6]\n",
    "K = 3\n",
    "\n",
    "for i in range(K):\n",
    "    for j in range(len(a)-1):\n",
    "        a[len(a)-2 - j], a[len(a)-1-j] = a[len(a)-1-j], a[len(a)-2 - j]\n",
    "        \n",
    "a"
   ]
  },
  {
   "cell_type": "code",
   "execution_count": 217,
   "metadata": {},
   "outputs": [
    {
     "data": {
      "text/plain": [
       "7"
      ]
     },
     "execution_count": 217,
     "metadata": {},
     "output_type": "execute_result"
    }
   ],
   "source": [
    "#find unpaired number in array (it's only one)\n",
    "\n",
    "def solution(A):\n",
    "    import collections\n",
    "    res = [item for item, count in collections.Counter(A).items() if count%2 == 1]\n",
    "    return res[0]\n",
    "\n",
    "A = [9, 3, 9, 3, 9, 7, 9]\n",
    "solution(A)"
   ]
  },
  {
   "cell_type": "code",
   "execution_count": 315,
   "metadata": {},
   "outputs": [
    {
     "data": {
      "text/plain": [
       "5"
      ]
     },
     "execution_count": 315,
     "metadata": {},
     "output_type": "execute_result"
    }
   ],
   "source": [
    "#find lost number\n",
    "\n",
    "def solution(a):\n",
    "    item = 1\n",
    "    if len(a)>1:\n",
    "        a = sorted(a)\n",
    "        if a[0] == 1:\n",
    "            while item in a and item <= 100000:\n",
    "                item = item + 1\n",
    "            else: res = item\n",
    "        else: res = 1\n",
    "    elif len(a) == 1 and a[0] == 1: res = 2\n",
    "    else: res = 1\n",
    "    return res\n",
    "\n",
    "a = [1, 2, 3, 4]\n",
    "\n",
    "solution(a)"
   ]
  },
  {
   "cell_type": "code",
   "execution_count": 313,
   "metadata": {},
   "outputs": [
    {
     "data": {
      "text/plain": [
       "1"
      ]
     },
     "execution_count": 313,
     "metadata": {},
     "output_type": "execute_result"
    }
   ],
   "source": [
    "#find lost number\n",
    "\n",
    "def solution(a):\n",
    "    if len(a)>1:\n",
    "        a = sorted(a)\n",
    "        if a[0] == 1:\n",
    "            for i in range(len(a)-1):\n",
    "                if a[i+1]-a[i]>1 and a[i+1] <= 100000:\n",
    "                    res = a[i] + 1\n",
    "                    break\n",
    "                else: res = max(a) + 1\n",
    "        else: res = 1\n",
    "    elif len(a) == 1 and a[0] == 1: res = 2\n",
    "    else: res = 1\n",
    "    return res\n",
    "\n",
    "a = [3, 2]\n",
    "\n",
    "solution(a)"
   ]
  },
  {
   "cell_type": "code",
   "execution_count": 252,
   "metadata": {},
   "outputs": [
    {
     "data": {
      "text/plain": [
       "0"
      ]
     },
     "execution_count": 252,
     "metadata": {},
     "output_type": "execute_result"
    }
   ],
   "source": [
    "#number of jumps to position\n",
    "\n",
    "def solution(x, y, d):\n",
    "    dist = y-x\n",
    "\n",
    "    if dist%d == 0:\n",
    "        res = dist//d\n",
    "    else: res = dist//d + 1\n",
    "    \n",
    "    return res"
   ]
  },
  {
   "cell_type": "code",
   "execution_count": 268,
   "metadata": {},
   "outputs": [
    {
     "data": {
      "text/plain": [
       "2"
      ]
     },
     "execution_count": 268,
     "metadata": {},
     "output_type": "execute_result"
    }
   ],
   "source": [
    "#split the tape to minimal num\n",
    "\n",
    "a = [3, 1]\n",
    "\n",
    "tmp = []\n",
    "if len(a)>2:\n",
    "    for i in range(1, len(a)-1):\n",
    "        tmp.append(abs(sum(a[:i]) - sum(a[i:])))\n",
    "    res = min(tmp)\n",
    "else: \n",
    "    res = max(a) - min(a)\n",
    "\n",
    "res"
   ]
  },
  {
   "cell_type": "code",
   "execution_count": 298,
   "metadata": {},
   "outputs": [
    {
     "data": {
      "text/plain": [
       "-1"
      ]
     },
     "execution_count": 298,
     "metadata": {},
     "output_type": "execute_result"
    }
   ],
   "source": [
    "#min time to get to position thrue all other steps\n",
    "\n",
    "a = [1, 3, 1, 4, 3, 5, 4]\n",
    "x = 5\n",
    "\n",
    "def solution(x, a):\n",
    "    res = 0\n",
    "    step = 1\n",
    "\n",
    "    while step <= x:\n",
    "        try:\n",
    "            tmp = a.index(step)\n",
    "            if tmp>res: res = tmp\n",
    "            step = step+1\n",
    "        except: \n",
    "            res = -1\n",
    "            step = x+1\n",
    "    return res\n",
    "\n",
    "solution(x, a)"
   ]
  },
  {
   "cell_type": "code",
   "execution_count": 306,
   "metadata": {},
   "outputs": [
    {
     "data": {
      "text/plain": [
       "0"
      ]
     },
     "execution_count": 306,
     "metadata": {},
     "output_type": "execute_result"
    }
   ],
   "source": [
    "#array permutation verification\n",
    "\n",
    "a = [1, 3, 1, 4, 3, 5, 4]\n",
    "\n",
    "def solution(a):\n",
    "    if len(a)>1:\n",
    "        a = sorted(a)\n",
    "        if a[0] == 1:\n",
    "            for i in range(len(a)-1):\n",
    "                if (a[i+1]-a[i]) == 1 and a[i+1] <= 100000:\n",
    "                    res = 1\n",
    "                else: \n",
    "                    res = 0\n",
    "                    break\n",
    "        else: res = 0 \n",
    "    elif a[0] == 1: res = 1\n",
    "    else: res = 0 \n",
    "    return res\n",
    "\n",
    "solution(a)"
   ]
  },
  {
   "cell_type": "code",
   "execution_count": null,
   "metadata": {},
   "outputs": [],
   "source": [
    "#find lost number\n",
    "\n",
    "def solution(a):\n",
    "    a = set(a)\n",
    "    a = sorted([elem for elem in a if elem > 0])\n",
    "    \n",
    "    if a != []:\n",
    "        item = 1\n",
    "        while item in a and item < 100000:\n",
    "            item = item + 1\n",
    "        else: res = item\n",
    "    else: res = 1\n",
    "    return res"
   ]
  },
  {
   "cell_type": "code",
   "execution_count": null,
   "metadata": {},
   "outputs": [],
   "source": [
    "#find lost number\n",
    "\n",
    "def solution(a):\n",
    "    a = set(a)\n",
    "    a = sorted([elem for elem in a if elem > 0])\n",
    "    \n",
    "    if a != []:\n",
    "        if len(a)>1:\n",
    "            if a[0] ==1:\n",
    "                for i in range(len(a)-1):\n",
    "                    if (a[i+1]-a[i]) != 1 or a[i+1] > 100000:\n",
    "                        res = a[i] + 1\n",
    "                        break\n",
    "                    else: res = max(a) + 1\n",
    "            else: res = 1\n",
    "        elif a[0] == 1: res = 2\n",
    "        else: res = 1\n",
    "    else: res = 1\n",
    "    return res"
   ]
  },
  {
   "cell_type": "code",
   "execution_count": 348,
   "metadata": {},
   "outputs": [
    {
     "data": {
      "text/plain": [
       "5"
      ]
     },
     "execution_count": 348,
     "metadata": {},
     "output_type": "execute_result"
    }
   ],
   "source": [
    "#count cars pairs\n",
    "\n",
    "a = [0,1,0,1,1]\n",
    "    \n",
    "def solution(a):\n",
    "    k = 0\n",
    "    \n",
    "    for i in range(len(a)-1):\n",
    "        for j in range(i+1, len(a)):\n",
    "            if a[j] != a[i] and a[i] == a[0] and k <= 1000000000:\n",
    "                k = k + 1\n",
    "            elif k > 1000000000:\n",
    "                k = -1\n",
    "                break\n",
    "            elif a[j] == a[i] or a[i] != a[0]: continue\n",
    "    return k\n",
    "\n",
    "solution(a)"
   ]
  },
  {
   "cell_type": "code",
   "execution_count": null,
   "metadata": {},
   "outputs": [],
   "source": [
    "#DNA impact counter\n",
    "\n",
    "def solution(stroka, start, end):\n",
    "    elem = ('A', 'C', 'G', 'T')\n",
    "    value = (1, 2, 3, 4)\n",
    "    res = []\n",
    "    i = 0\n",
    "    while i in range(len(start)):\n",
    "        impact = 4\n",
    "        stroka_set = set(stroka[start[i]:end[i]+1])\n",
    "        for char in stroka_set:\n",
    "            if value[elem.index(char)] < impact:\n",
    "                impact = value[elem.index(char)]\n",
    "            if impact == 1:\n",
    "                break\n",
    "        res.append(impact)\n",
    "        i = i + 1\n",
    "    \n",
    "    return res"
   ]
  },
  {
   "cell_type": "code",
   "execution_count": 393,
   "metadata": {},
   "outputs": [
    {
     "name": "stdout",
     "output_type": "stream",
     "text": [
      "[2, 3, 2, 3, 9] 3.8 0\n",
      "[3, 2, 3] 2.6666666666666665 1\n",
      "[3, 2] 2.5 1\n",
      "[2, 3] 2.5 2\n",
      "[2, 3] 2.5 1\n",
      "[2, 3, 2] 2.3333333333333335 2\n",
      "[2, 3, 2, 3] 2.5 3\n",
      "[3, 9] 6.0 1\n",
      "[2, 3, 9] 4.666666666666667 2\n",
      "[3, 2, 3, 9] 4.25 3\n"
     ]
    },
    {
     "data": {
      "text/plain": [
       "0"
      ]
     },
     "execution_count": 393,
     "metadata": {},
     "output_type": "execute_result"
    }
   ],
   "source": [
    "#min avg split for array\n",
    "\n",
    "def solution(a):\n",
    "    length = len(a)\n",
    "    if length>2:\n",
    "        avg = [10000 for rows in range(4)]\n",
    "        index = [0 for rows in range(4)]\n",
    "        #bottom to center\n",
    "        for i in range(int(length/2)):\n",
    "            tmp = sum(a[i:length - i])/(length - 2*i)\n",
    "            print(a[i:length - i], tmp, i)\n",
    "            if tmp < avg[0]:\n",
    "                avg[0] = tmp\n",
    "                index[0] = i\n",
    "        #pairs from the second tho the last -1\n",
    "        for i in range(1,length - 2):\n",
    "            tmp = sum(a[i:i + 2])/2\n",
    "            print(a[i:i + 2], tmp, i)\n",
    "            if tmp < avg[1]:\n",
    "                avg[1] = tmp\n",
    "                index[1] = i \n",
    "        #from left to last -1\n",
    "        for i in range(1, length - 1):\n",
    "            tmp = sum(a[:i + 1])/(i + 1)\n",
    "            print(a[:i + 1], tmp, i)\n",
    "            if tmp < avg[2]:\n",
    "                avg[2] = tmp\n",
    "                index[2] = 0\n",
    "        #from right to first -1\n",
    "        for i in range(1, length - 1):\n",
    "            tmp = sum(a[length - 1 - i:])/(i + 1)\n",
    "            print(a[length - 1 - i:], tmp, i)\n",
    "            if tmp <= avg[3]:\n",
    "                avg[3] = tmp\n",
    "                index[3] = length - (length - i)\n",
    "        res = sorted([i for i, average in zip(index, avg) if average == min(avg)])[0]\n",
    "    else: res = 0\n",
    "    return res\n",
    "        \n",
    "#a = [-10000, 10000] \n",
    "a = [2, 3, 2, 3, 9]\n",
    "\n",
    "solution(a)"
   ]
  },
  {
   "cell_type": "code",
   "execution_count": null,
   "metadata": {},
   "outputs": [],
   "source": [
    "#return count of numbers divided by 2 between named numbers\n",
    "#50% because of performance\n",
    "def solution(a, b, k):\n",
    "    i = a\n",
    "    j = 0\n",
    "    while a<=i<=b:\n",
    "        if i%k == 0:\n",
    "            j = j + 1\n",
    "        i = i + 1\n",
    "    return j\n",
    "\n",
    "#50% however faster\n",
    "def solution(a, b, k):\n",
    "    res = (len([x for x in range(a, b + 1) if x%k == 0]))          \n",
    "    return res"
   ]
  },
  {
   "cell_type": "code",
   "execution_count": 401,
   "metadata": {},
   "outputs": [
    {
     "data": {
      "text/plain": [
       "8"
      ]
     },
     "execution_count": 401,
     "metadata": {},
     "output_type": "execute_result"
    }
   ],
   "source": [
    "#62% (100% correctness + 24% performance)\n",
    "def solution(a, b, k):\n",
    "    if a < k and b > k and a%k !=0: a = k\n",
    "    if a > k and a%k !=0: \n",
    "        while a%k !=0:\n",
    "            a = a + 1\n",
    "\n",
    "    res = (len([x for x in range(a, b + 1, k) if x%k == 0]))\n",
    "\n",
    "    return res\n",
    "\n",
    "solution(a = 0, b = 14, k = 2)"
   ]
  },
  {
   "cell_type": "code",
   "execution_count": 407,
   "metadata": {},
   "outputs": [
    {
     "data": {
      "text/plain": [
       "0"
      ]
     },
     "execution_count": 407,
     "metadata": {},
     "output_type": "execute_result"
    }
   ],
   "source": [
    "#properly nested string 100% accuracy\n",
    "\n",
    "def solution(s):\n",
    "    open_list = [\"(\", \"{\", \"[\"]\n",
    "    close_list = [\")\", \"}\", \"]\"]\n",
    "    \n",
    "    tmp = []\n",
    "    res = 1\n",
    "    \n",
    "    if s != '':\n",
    "        if (s[0] in close_list):\n",
    "            res = 0\n",
    "        else:    \n",
    "            for char in s:\n",
    "                if char in open_list:\n",
    "                    tmp.append(char)\n",
    "                else:\n",
    "                    if tmp != []:\n",
    "                        if tmp.pop() != open_list[close_list.index(char)]:\n",
    "                            res = 0\n",
    "                            break\n",
    "                        else: next\n",
    "                    else:\n",
    "                        res = 0\n",
    "                        break\n",
    "\n",
    "    if tmp == [] and res == 1:\n",
    "        res = 1\n",
    "    else: res = 0\n",
    "    \n",
    "    return res\n",
    "\n",
    "s = '' \n",
    "solution(s)"
   ]
  },
  {
   "cell_type": "code",
   "execution_count": null,
   "metadata": {},
   "outputs": [],
   "source": [
    "#properly nested string 100% accuracy (only 1 type of characters)\n",
    "\n",
    "def solution(s):\n",
    "    tmp = 0\n",
    "    res = 1\n",
    "    \n",
    "    if s != '':\n",
    "        if s[0] == \")\":\n",
    "            res = 0\n",
    "        else:    \n",
    "            for char in s:\n",
    "                if char == \"(\":\n",
    "                    tmp = tmp + 1\n",
    "                else:\n",
    "                    if tmp > 0:\n",
    "                        tmp = tmp - 1\n",
    "                    else:\n",
    "                        res = 0\n",
    "                        break\n",
    "\n",
    "    if tmp == 0 and res == 1:\n",
    "        res = 1\n",
    "    else: res = 0\n",
    "    \n",
    "    return res"
   ]
  },
  {
   "cell_type": "code",
   "execution_count": 29,
   "metadata": {},
   "outputs": [
    {
     "data": {
      "text/plain": [
       "5"
      ]
     },
     "execution_count": 29,
     "metadata": {},
     "output_type": "execute_result"
    }
   ],
   "source": [
    "#eat fish in front of you 62%: 100% correctness and 24% of performance\n",
    "#a - fish size (to eat you need to be bigger)\n",
    "#b - direction: 0 - upstream, 1 - downstream\n",
    "\n",
    "a = [4, 3, 2, 1, 6, 5]\n",
    "b = [1, 1, 1, 1, 1, 0]\n",
    "\n",
    "#a = [0, 1]\n",
    "#b = [1, 1]\n",
    "\n",
    "def solution(a, b):\n",
    "    iterations = max(b.count(0), b.count(1))\n",
    "\n",
    "    for j in range(iterations):\n",
    "        i = 0\n",
    "        while (i <= len(b)-2) and ((1 in b) and (0 in b)):\n",
    "            if b[i] == 1 and b[i] != b[i+1]:\n",
    "                if a[i] > a[i+1]:\n",
    "                    a.pop(i+1)\n",
    "                    b.pop(i+1)\n",
    "                    k = 0\n",
    "                else:\n",
    "                    a.pop(i)\n",
    "                    b.pop(i)\n",
    "                    k = 0\n",
    "            else: k = 1\n",
    "            i = i + k\n",
    "    \n",
    "    res = len(a)\n",
    "    return res\n",
    "\n",
    "solution(a, b)"
   ]
  },
  {
   "cell_type": "code",
   "execution_count": 145,
   "metadata": {},
   "outputs": [
    {
     "name": "stdout",
     "output_type": "stream",
     "text": [
      "Predator weight:  6 Direction:  0 Searched in:  [4, 3, 2, 1, 6, 5]\n",
      "fishes in front:  {4: 0, 3: 0, 2: 0, 1: 0}\n",
      "Predator weight:  5 Direction:  1 Searched in:  [5]\n",
      "fishes in front:  {}\n",
      "[4, 3, 2, 1, 6, 5] [0, 0, 0, 0, 0, 1]\n"
     ]
    }
   ],
   "source": [
    "#eat fish in front of you (NOT VERIFIED)\n",
    "#a - fish size (to eat you need to be bigger)\n",
    "#b - direction: 0 - upstream, 1 - downstream\n",
    "\n",
    "a = [4, 3, 2, 1, 6, 5]\n",
    "b = [0, 0, 0, 0, 0, 1]\n",
    "k = 0\n",
    "start = 0\n",
    "end = len(a)\n",
    "alive = []\n",
    "alive_dir = []\n",
    "\n",
    "while len(a)>2 and ((1 in b) and (0 in b)) and k < 2:\n",
    "    predator = max(a[start:end])\n",
    "    predator_index = a.index(max(a[start:end]))\n",
    "    print('Predator weight: ', max(a[start:end]), 'Direction: ', b[predator_index], 'Searched in: ', a[start:end])\n",
    "\n",
    "    if b[predator_index] == 1:\n",
    "        fishes = dict(zip(a[predator_index+1:end], b[predator_index+1:end]))\n",
    "        print('fishes in front: ', fishes)\n",
    "        if 0 in fishes.values():\n",
    "            victim_max = sorted([key for key, value in fishes.items() if value == 0])[::-1][0]\n",
    "            print('Max victim: ', victim_max)\n",
    "            #alive reservation\n",
    "            alive = list(filter(lambda x: victim_max<x<a[predator_index], [key for key, value in fishes.items() if value == 1]))\n",
    "            print('alive: ', alive)\n",
    "            for fish in alive:\n",
    "                alive_dir.append(b[a.index(fish)])\n",
    "            #clearing dead\n",
    "            del a[predator_index+1:]\n",
    "            del b[predator_index+1:]\n",
    "            #returning alive from reservation\n",
    "            a = alive + a\n",
    "            print('New line:', a)\n",
    "            b = alive_dir = b\n",
    "            #clearing buffer\n",
    "            alive = []\n",
    "            alive_dir = []\n",
    "            #setting start and end positions for search\n",
    "            start = 0\n",
    "            end = a.index(predator)\n",
    "            k = 0\n",
    "        else:\n",
    "            start = 0\n",
    "            end = a.index(predator)\n",
    "            k = k + 1\n",
    "    else:\n",
    "        #searching for alive\n",
    "        fishes = dict(zip(a[:predator_index], b[:predator_index]))\n",
    "        print('fishes in front: ', fishes)\n",
    "        if 1 in fishes.values():\n",
    "            victim_max = sorted([key for key, value in fishes.items() if value == 1])[::-1][0]\n",
    "            print('Max victim: ', victim_max)\n",
    "            #alive reservation\n",
    "            alive = list(filter(lambda x: victim_max<x<a[predator_index], [key for key, value in fishes.items() if value == 0]))\n",
    "            print('alive: ', alive)\n",
    "            for fish in alive:\n",
    "                alive_dir.append(b[a.index(fish)])\n",
    "            #clearing dead\n",
    "            del a[start:predator_index]\n",
    "            del b[start:predator_index]\n",
    "            #returning alive from reservation\n",
    "            a = alive + a\n",
    "            print('New line:', a)\n",
    "            b = alive_dir = b\n",
    "            #clearing buffer\n",
    "            alive = []\n",
    "            alive_dir = []\n",
    "            #setting start and end positions for search\n",
    "            start = a.index(predator)+1\n",
    "            end = len(a)\n",
    "            k = 0\n",
    "        else:\n",
    "            start = a.index(predator)+1\n",
    "            end = len(a)\n",
    "            k = k + 1\n",
    "    \n",
    "print(a, b)"
   ]
  },
  {
   "cell_type": "code",
   "execution_count": 202,
   "metadata": {},
   "outputs": [
    {
     "ename": "IndexError",
     "evalue": "list index out of range",
     "traceback": [
      "\u001b[1;31m---------------------------------------------------------------------------\u001b[0m",
      "\u001b[1;31mIndexError\u001b[0m                                Traceback (most recent call last)",
      "\u001b[1;32m<ipython-input-202-3b56a4cf4858>\u001b[0m in \u001b[0;36m<module>\u001b[1;34m()\u001b[0m\n\u001b[0;32m     39\u001b[0m     \u001b[1;32mreturn\u001b[0m \u001b[0mk\u001b[0m \u001b[1;33m+\u001b[0m \u001b[0mlen\u001b[0m\u001b[1;33m(\u001b[0m\u001b[1;33m[\u001b[0m\u001b[0mx\u001b[0m \u001b[1;32mfor\u001b[0m \u001b[0mx\u001b[0m \u001b[1;32min\u001b[0m \u001b[0mh\u001b[0m \u001b[1;32mif\u001b[0m \u001b[0mx\u001b[0m \u001b[1;33m>\u001b[0m \u001b[1;36m0\u001b[0m\u001b[1;33m]\u001b[0m\u001b[1;33m)\u001b[0m\u001b[1;33m\u001b[0m\u001b[0m\n\u001b[0;32m     40\u001b[0m \u001b[1;33m\u001b[0m\u001b[0m\n\u001b[1;32m---> 41\u001b[1;33m \u001b[0msolution\u001b[0m\u001b[1;33m(\u001b[0m\u001b[0mh\u001b[0m\u001b[1;33m)\u001b[0m\u001b[1;33m\u001b[0m\u001b[0m\n\u001b[0m",
      "\u001b[1;32m<ipython-input-202-3b56a4cf4858>\u001b[0m in \u001b[0;36msolution\u001b[1;34m(h)\u001b[0m\n\u001b[0;32m     17\u001b[0m \u001b[1;33m\u001b[0m\u001b[0m\n\u001b[0;32m     18\u001b[0m         \u001b[1;32mif\u001b[0m \u001b[0mheight\u001b[0m \u001b[1;33m>\u001b[0m \u001b[0mh\u001b[0m\u001b[1;33m[\u001b[0m\u001b[0mj\u001b[0m\u001b[1;33m]\u001b[0m\u001b[1;33m:\u001b[0m\u001b[1;33m\u001b[0m\u001b[0m\n\u001b[1;32m---> 19\u001b[1;33m             \u001b[1;32mwhile\u001b[0m \u001b[0mheight\u001b[0m \u001b[1;33m>\u001b[0m \u001b[0mh\u001b[0m\u001b[1;33m[\u001b[0m\u001b[0mj\u001b[0m \u001b[1;33m+\u001b[0m \u001b[1;36m1\u001b[0m\u001b[1;33m]\u001b[0m \u001b[1;32mand\u001b[0m \u001b[0mj\u001b[0m \u001b[1;33m<=\u001b[0m \u001b[0mlen\u001b[0m\u001b[1;33m(\u001b[0m\u001b[0mh\u001b[0m\u001b[1;33m)\u001b[0m\u001b[1;33m-\u001b[0m\u001b[1;36m1\u001b[0m\u001b[1;33m:\u001b[0m\u001b[1;33m\u001b[0m\u001b[0m\n\u001b[0m\u001b[0;32m     20\u001b[0m                 \u001b[0mj\u001b[0m \u001b[1;33m=\u001b[0m \u001b[0mj\u001b[0m \u001b[1;33m+\u001b[0m \u001b[1;36m1\u001b[0m\u001b[1;33m\u001b[0m\u001b[0m\n\u001b[0;32m     21\u001b[0m \u001b[1;33m\u001b[0m\u001b[0m\n",
      "\u001b[1;31mIndexError\u001b[0m: list index out of range"
     ],
     "output_type": "error"
    }
   ],
   "source": [
    "#how many blocks are needed to build the wall NOT VERIFIRED\n",
    "h = [3, 2, 1]\n",
    "\n",
    "def solution(h):\n",
    "    k = 0\n",
    "    \n",
    "    if min(h) > 0:\n",
    "        h = [x - min(h) for x in h]\n",
    "        k = k + 1\n",
    "\n",
    "    for i in range(len(h)-1):\n",
    "        if h[i] == 0:\n",
    "            continue\n",
    "        \n",
    "        height = h[i]  \n",
    "        j = i + 1\n",
    "        \n",
    "        if height > h[j]:\n",
    "            while height > h[j + 1] and j <= len(h)-1:\n",
    "                j = j + 1\n",
    "            \n",
    "            height = min(h[i:j - 1]) \n",
    "            while i <= j - 2 and i <= len(h)-1:\n",
    "                h[i] = h[i] - height\n",
    "                i = i + 1\n",
    "\n",
    "            k = k + 1\n",
    "\n",
    "        elif height <= h[j]:        \n",
    "            while height <= h[j - 1] and j <= len(h)-1:\n",
    "                j = j + 1\n",
    "\n",
    "            while i <= j - 2 and i <= len(h)-1:\n",
    "                h[i] = h[i] - height\n",
    "                i = i + 1\n",
    "\n",
    "            k = k + 1 \n",
    "                \n",
    "    return k + len([x for x in h if x > 0])\n",
    "\n",
    "solution(h)"
   ]
  },
  {
   "cell_type": "code",
   "execution_count": 201,
   "metadata": {},
   "outputs": [],
   "source": [
    "#how many blocks are needed to build the wall\n",
    "h = [8, 8, 5, 7, 9, 8, 7, 4, 8]\n",
    "\n",
    "k = 0\n",
    "height = min(h)\n",
    "    \n",
    "if min(h) > 0:\n",
    "    h = [x - min(h) for x in h]\n",
    "    k = k + 1\n",
    "#    print('Array: ', h, 'Step: ', 1, 'Height: ', height, 'Blocks: ', k)\n",
    "\n",
    "for i in range(len(h)-1):\n",
    "    if h[i] == 0:\n",
    "        continue\n",
    "    height = h[i]  \n",
    " #   index = i\n",
    "    j = i + 1\n",
    "    if height > h[j]:\n",
    "        while height > h[j + 1] and j <= len(h)-1:\n",
    "         #   print('Height: ', height, 'UnderStepMore: ', j, 'Next Elem:', h[j])  \n",
    "            j = j + 1\n",
    "        \n",
    "        height = min(h[i:j - 1]) \n",
    "        while i <= j - 2 and i <= len(h)-1:\n",
    "            h[i] = h[i] - height\n",
    "            i = i + 1\n",
    "\n",
    "        k = k + 1\n",
    "        \n",
    "    elif height <= h[j]:        \n",
    "        while height <= h[j - 1] and j <= len(h)-1:\n",
    "         #   print('Height: ', height, 'UnderStepLess: ', j, 'Next Elem:', h[j]) \n",
    "            j = j + 1\n",
    "\n",
    "        while i <= j - 2 and i <= len(h)-1:\n",
    "            h[i] = h[i] - height\n",
    "            i = i + 1\n",
    "\n",
    "        k = k + 1       \n",
    "                 \n",
    " #   print('Res_array: ', h, 'Blocks: ', k)"
   ]
  },
  {
   "cell_type": "code",
   "execution_count": 258,
   "metadata": {},
   "outputs": [
    {
     "data": {
      "text/plain": [
       "4"
      ]
     },
     "execution_count": 258,
     "metadata": {},
     "output_type": "execute_result"
    }
   ],
   "source": [
    "#return number of an equi leader is an index S such that 0 ≤ S < N − 1 and \n",
    "#two sequences A[0], A[1], ..., A[S] and A[S + 1], A[S + 2], ..., A[N − 1]\n",
    "#have leaders of the same value\n",
    "#55%: 100% correctness and 10% of performance\n",
    "\n",
    "a = [4, 4, 2, 5, 3, 4, 4, 4]\n",
    "\n",
    "def solution(a):\n",
    "    import collections\n",
    "    res = 0\n",
    "    if len(a) > 1:\n",
    "        for i in range(len(a)-1):\n",
    "            #splitting array\n",
    "            left = collections.Counter(a[:i+1])\n",
    "            right = collections.Counter(a[i+1:])\n",
    "            \n",
    "            #searching for the leaders in parts\n",
    "            left = list([item for item in left.items() if item[1] == max(left.values())])[0]\n",
    "            right = list([item for item in right.items() if item[1] == max(right.values())])[0]\n",
    "            \n",
    "            #leaders werification and addition of result in case of success or next one, please\n",
    "            if left[0] == right[0] and (left[1] > len(a[:i+1])/2 and right[1] > len(a[i+1:])/2):\n",
    "                res = res + 1\n",
    "            else:\n",
    "                next\n",
    "    else: res = 0\n",
    "    return res\n",
    "\n",
    "\n",
    "solution(a)"
   ]
  },
  {
   "cell_type": "code",
   "execution_count": 351,
   "metadata": {},
   "outputs": [
    {
     "name": "stdout",
     "output_type": "stream",
     "text": [
      "Generate Fibonacci numbers till: 6\n",
      "1\n",
      "1\n",
      "2\n",
      "3\n",
      "5\n"
     ]
    }
   ],
   "source": [
    "#Fibonacci numbers generator till the entered number\n",
    "\n",
    "def fib_gen(n):\n",
    "    previous = 0\n",
    "    current = 1\n",
    "    \n",
    "    while current <= n:\n",
    "        yield current\n",
    "        previous, current = current, previous + current\n",
    "    \n",
    "n = int(input('Generate Fibonacci numbers till: '))\n",
    "\n",
    "for i in fib_gen(n):\n",
    "    print(i)"
   ]
  },
  {
   "cell_type": "code",
   "execution_count": 3,
   "metadata": {},
   "outputs": [
    {
     "data": {
      "text/plain": [
       "3"
      ]
     },
     "execution_count": 3,
     "metadata": {},
     "output_type": "execute_result"
    }
   ],
   "source": [
    "#return quantity of different numbers in array 100%\n",
    "\n",
    "a = [2, 1, 1, 2, 3, 1]\n",
    "\n",
    "def solution(a):\n",
    "    from collections import Counter\n",
    "    a = Counter(a)\n",
    "    a = [key for key, value in a.items()]\n",
    "    a = len(a)\n",
    "    return a\n",
    "\n",
    "solution(a)"
   ]
  },
  {
   "cell_type": "code",
   "execution_count": 5,
   "metadata": {},
   "outputs": [
    {
     "data": {
      "text/plain": [
       "[0, 2, 4, 6, 7]"
      ]
     },
     "execution_count": 5,
     "metadata": {},
     "output_type": "execute_result"
    }
   ],
   "source": [
    "#return all indexes of dominator\n",
    "a = [3, 4, 3, 2, 3, -1, 3, 3]\n",
    "\n",
    "def solution(a):\n",
    "    from collections import Counter\n",
    "    res = []\n",
    "    qty = len(a)/2\n",
    "    tmp = Counter(a)\n",
    "    tmp = [key for key, value in tmp.items() if value == max(tmp.values()) and value > qty]\n",
    "    \n",
    "    if tmp != []:\n",
    "        for i in range(len(a)):\n",
    "            if a[i] == tmp[0]:\n",
    "                res.append(i)\n",
    "    else: res = -1\n",
    "    return res\n",
    "\n",
    "solution(a)"
   ]
  },
  {
   "cell_type": "code",
   "execution_count": 22,
   "metadata": {},
   "outputs": [
    {
     "data": {
      "text/plain": [
       "0"
      ]
     },
     "execution_count": 22,
     "metadata": {},
     "output_type": "execute_result"
    }
   ],
   "source": [
    "#return any index of dominator 66%: 100% correctness and 32% of performance\n",
    "a = [3, 4, 3, 2, 3, -1, 3, 3]\n",
    "\n",
    "def solution(a):\n",
    "    from collections import Counter\n",
    "    res = []\n",
    "    qty = len(a)/2\n",
    "    tmp = Counter(a)\n",
    "    tmp = [key for key, value in tmp.items() if value == max(tmp.values()) and value > qty]\n",
    "    \n",
    "    if tmp != []:\n",
    "        res = a.index(tmp[0])\n",
    "    else: res = -1\n",
    "    return res\n",
    "\n",
    "solution(a)"
   ]
  },
  {
   "cell_type": "code",
   "execution_count": 30,
   "metadata": {},
   "outputs": [
    {
     "data": {
      "text/plain": [
       "-1"
      ]
     },
     "execution_count": 30,
     "metadata": {},
     "output_type": "execute_result"
    }
   ],
   "source": [
    "#return any index of dominator 100%: 100% correctness and 100% of performance\n",
    "a = []\n",
    "\n",
    "def solution(a):\n",
    "    if a != []:\n",
    "        from collections import Counter\n",
    "\n",
    "        qty = len(a)/2\n",
    "        tmp = Counter(a)\n",
    "        tmp = list(sorted(tmp.items(), key=lambda kv: kv[1], reverse=True))[0]\n",
    "\n",
    "        if tmp != [] and tmp[1] > qty:\n",
    "            res = a.index(tmp[0])\n",
    "        else: res = -1\n",
    "    else: res = -1\n",
    "    return res\n",
    "\n",
    "solution(a)"
   ]
  },
  {
   "cell_type": "code",
   "execution_count": 38,
   "metadata": {},
   "outputs": [
    {
     "data": {
      "text/plain": [
       "1"
      ]
     },
     "execution_count": 38,
     "metadata": {},
     "output_type": "execute_result"
    }
   ],
   "source": [
    "#return maximum slice sum in array 84%:  87% correctness and 80% of performance\n",
    "\n",
    "a = [1, -2, 1]\n",
    "\n",
    "def solution(a):\n",
    "    length = len(a)\n",
    "    if max(a) > 0:\n",
    "        if max(a) > sum(a):\n",
    "            summa = max(a)\n",
    "        else: summa = sum(a)\n",
    "\n",
    "        if length>2:\n",
    "            #bottom to center\n",
    "            for i in range(int(length/2)):\n",
    "                tmp = sum(a[i:length - i])\n",
    "                if summa < tmp:\n",
    "                    summa = tmp\n",
    "\n",
    "            #pairs from the second tho the last -1\n",
    "            for i in range(1,length - 2):\n",
    "                tmp = sum(a[i:i + 2])\n",
    "                if summa < tmp:\n",
    "                    summa = tmp\n",
    "\n",
    "            #from left to last -1\n",
    "            for i in range(1, length - 1):\n",
    "                tmp = sum(a[:i + 1])\n",
    "                if summa < tmp:\n",
    "                    summa = tmp\n",
    "\n",
    "            #from right to first -1\n",
    "            for i in range(1, length - 1):\n",
    "                tmp = sum(a[length - 1 - i:])\n",
    "                if summa < tmp:\n",
    "                    summa = tmp\n",
    "    else: summa = max(a)\n",
    "    return summa\n",
    "\n",
    "solution(a)"
   ]
  },
  {
   "cell_type": "code",
   "execution_count": 81,
   "metadata": {},
   "outputs": [
    {
     "data": {
      "text/plain": [
       "356"
      ]
     },
     "execution_count": 81,
     "metadata": {},
     "output_type": "execute_result"
    }
   ],
   "source": [
    "#maximum profit for the limited time view of treasuries 100%\n",
    "\n",
    "a = [23171, 21011, 21123, 21366, 21013, 21367] \n",
    "\n",
    "def solution(a):\n",
    "    res = 0\n",
    "    max_price_tmp = 0\n",
    "    if a != []:\n",
    "        if a[::-1] != sorted(a): #verification of decreasing sequence case\n",
    "            length = len(a)\n",
    "            min_pos = length\n",
    "\n",
    "            while min_pos > 0: #while not the end of array\n",
    "                tmp = a[:min_pos]\n",
    "                min_price = min(tmp)\n",
    "                \n",
    "                if tmp[tmp.index(min_price)+1:] != []: #if it is an end of array, then break the loop\n",
    "                    max_price = max(tmp[tmp.index(min_price)+1:])\n",
    "                else: break\n",
    "\n",
    "                if max_price > max_price_tmp and res < (max_price - min_price): #use this maximum or the later one\n",
    "                    res = max_price - min_price\n",
    "                    max_price_tmp = max_price\n",
    "                elif max_price < max_price_tmp and res < (max_price_tmp - min_price):\n",
    "                    res = max_price_tmp - min_price\n",
    "\n",
    "                min_pos = a.index(min_price)\n",
    "        else: res = 0\n",
    "    return res\n",
    "\n",
    "solution(a)"
   ]
  },
  {
   "cell_type": "code",
   "execution_count": 25,
   "metadata": {},
   "outputs": [
    {
     "data": {
      "text/plain": [
       "17"
      ]
     },
     "execution_count": 25,
     "metadata": {},
     "output_type": "execute_result"
    }
   ],
   "source": [
    "#max sum for double slice of array\n",
    "\n",
    "a = [3, 2, 6, -1, 4, 5, -1, 2] \n",
    "\n",
    "def solution(a):\n",
    "    length = len(a)    # The length of array A\n",
    "    # Get the sum of maximum subarray, which ends this position\n",
    "    # Method: http://en.wikipedia.org/wiki/Maximum_subarray_problem\n",
    "    max_ending_here = [0] * length #fill in array with zeros\n",
    "    max_ending_here_temp = 0\n",
    "    for i in range(1, length - 2):\n",
    "        max_ending_here_temp = max(0, a[i]+max_ending_here_temp)\n",
    "        max_ending_here[i] = max_ending_here_temp\n",
    "    # Get the sum of maximum subarray, which begins this position (moving from the tail to the head)\n",
    "    max_beginning_here = [0] * length #fill in array with zeros\n",
    "    max_beginning_here_temp = 0\n",
    "    for i in range(length - 2, 1, -1):\n",
    "        max_beginning_here_temp = max(0, a[i]+max_beginning_here_temp)\n",
    "        max_beginning_here[i] = max_beginning_here_temp\n",
    "    # Connect two subarray for a double_slice. If the first subarray\n",
    "    # ends at position i, the second subarray should start at position i+2,\n",
    "    # then we compare each double slice to get the one with the greatest sum.\n",
    "    max_double_slice = 0\n",
    "    for i in range(0, length - 2):\n",
    "        max_double_slice = max(max_double_slice,\n",
    "                 max_ending_here[i] + max_beginning_here[i + 2] )\n",
    "    return max_double_slice\n",
    "\n",
    "solution(a)"
   ]
  },
  {
   "cell_type": "code",
   "execution_count": 30,
   "metadata": {},
   "outputs": [
    {
     "data": {
      "text/plain": [
       "2"
      ]
     },
     "execution_count": 30,
     "metadata": {},
     "output_type": "execute_result"
    }
   ],
   "source": [
    "#return number of factors for the entered value 100%\n",
    "\n",
    "n = 5\n",
    "\n",
    "def solution(n):\n",
    "    i = 1\n",
    "    res = 0\n",
    "    while i*i<n: #before the sqrt of n we have 2 factors \"Sieve of Eratosthenes\"\n",
    "        if n%i==0:\n",
    "            i +=1\n",
    "            res +=2\n",
    "        else: i +=1\n",
    "    if i*i==n: #when we reach sqrt of n we have the last one factor\n",
    "        res +=1\n",
    "    return res\n",
    "\n",
    "solution(n)"
   ]
  },
  {
   "cell_type": "code",
   "execution_count": 57,
   "metadata": {},
   "outputs": [
    {
     "data": {
      "text/plain": [
       "4"
      ]
     },
     "execution_count": 57,
     "metadata": {},
     "output_type": "execute_result"
    }
   ],
   "source": [
    "#return minimum perimeter for rectangle with given area 100%\n",
    "\n",
    "n = 1\n",
    "\n",
    "def solution(n):\n",
    "    i = 1\n",
    "    res = 1000000000**2 #maximal number under condtitions\n",
    "    \n",
    "    while i*i<=n:\n",
    "        if n%i == 0: #searching for a factors\n",
    "            perimeter = int(2*(i + n/i)) #pare creation for factor + perimeter equation\n",
    "            res = min(res, perimeter)\n",
    "            i += 1\n",
    "        else: i += 1\n",
    "        \n",
    "    return res\n",
    "\n",
    "solution(n)"
   ]
  },
  {
   "cell_type": "code",
   "execution_count": 80,
   "metadata": {},
   "outputs": [
    {
     "data": {
      "text/plain": [
       "3"
      ]
     },
     "execution_count": 80,
     "metadata": {},
     "output_type": "execute_result"
    }
   ],
   "source": [
    "#return possible number of equal size blocks with peaks made from given array 90%: 100% correctness and 80% performance\n",
    "a = [1, 2, 3, 4, 3, 4, 1, 2, 3, 4, 6, 2] \n",
    "\n",
    "def solution(a):\n",
    "    res = 0\n",
    "    peak_indx = []\n",
    "    length = len(a)\n",
    "    for i in range(1, length - 1): #find peaks and save its' places\n",
    "        if a[i-1]<a[i]>a[i+1]:\n",
    "            peak_indx.append(i)\n",
    "    \n",
    "    if len(peak_indx) > 0: \n",
    "        for i in range(1, len(peak_indx)+1): #how many blocks we can create?\n",
    "            if length%i == 0: #\n",
    "                block_len = length/i\n",
    "                last_block_indx = -1\n",
    "                counter = 0\n",
    "                for indx in peak_indx:\n",
    "                    block_num = indx//block_len\n",
    "                    if block_num > last_block_indx:\n",
    "                        last_block_indx = block_num\n",
    "                        counter += 1\n",
    "                        \n",
    "            if counter == i:\n",
    "                res = counter\n",
    "            \n",
    "    return res\n",
    "\n",
    "solution(a)"
   ]
  },
  {
   "cell_type": "code",
   "execution_count": 27,
   "metadata": {},
   "outputs": [
    {
     "data": {
      "text/plain": [
       "0"
      ]
     },
     "execution_count": 27,
     "metadata": {},
     "output_type": "execute_result"
    }
   ],
   "source": [
    "#return number of possible flags on peaks in case number of array elements between flags >= number of flags 100%\n",
    "a = [5]\n",
    "\n",
    "def solution(a):\n",
    "    length = len(a)\n",
    "    peaks = []\n",
    "    \n",
    "    for i in range(1, length-1): #searching for peaks\n",
    "        if a[i] > a[i-1] and a[i] > a[i+1]:\n",
    "            peaks.append(i)\n",
    "            \n",
    "    if len(peaks) == 0:\n",
    "        return 0\n",
    "    \n",
    "    #possible flags quantity: the distance for k flags requires k(k-1) distance between first and last flag\n",
    "    max_flags_possible = len(peaks)\n",
    "    while max_flags_possible * (max_flags_possible - 1) > (peaks[-1] - peaks[0]):\n",
    "        max_flags_possible -=1\n",
    "        \n",
    "    for k in range(max_flags_possible, 0, -1): #flags quantity verification from the maximum to the lowest\n",
    "        flags_set = 1 #starting from the first found peak\n",
    "        distance = 0\n",
    "        for i in range(1, len(peaks)): #moving  in peaks array from the second element\n",
    "            distance += (peaks[i] - peaks[i-1]) #calculate distance between peaks\n",
    "            if distance >= k: #if distance >= possible flags quantity according to task, then add 1 to flags count\n",
    "                flags_set += 1\n",
    "                distance = 0\n",
    "        if flags_set >= k: #if assumption about possible flags quantity is true, return actual flags quantity\n",
    "            return k\n",
    "    return 0\n",
    "\n",
    "solution(a)"
   ]
  },
  {
   "cell_type": "code",
   "execution_count": 112,
   "metadata": {},
   "outputs": [
    {
     "data": {
      "text/plain": [
       "[0, 0]"
      ]
     },
     "execution_count": 112,
     "metadata": {},
     "output_type": "execute_result"
    }
   ],
   "source": [
    "#find non-divisers for elements in array from elements in array 55%: 100% accuracy + 10% performance\n",
    "#a = [3, 1, 2, 3, 6]\n",
    "a = [4, 4]\n",
    "#b = [1,2,3,3,6]\n",
    "\n",
    "def solution(a):\n",
    "    length = len(a)\n",
    "    res = [0]*length\n",
    "    b = sorted(a)\n",
    "    \n",
    "    if length>1:\n",
    "        for i in range(length):\n",
    "            j = 0\n",
    "            while j<length and b[j]<a[i]:\n",
    "                if a[i]%b[j]!=0:\n",
    "                    res[i] +=1\n",
    "                j+=1\n",
    "            \n",
    "            res[i] += len([elem for elem in b if elem>a[i]])\n",
    "            \n",
    "    return res \n",
    "\n",
    "solution(a)"
   ]
  },
  {
   "cell_type": "code",
   "execution_count": 150,
   "metadata": {},
   "outputs": [
    {
     "data": {
      "text/plain": [
       "[2, 4, 3, 2, 0]"
      ]
     },
     "execution_count": 150,
     "metadata": {},
     "output_type": "execute_result"
    }
   ],
   "source": [
    "#find non-divisers for elements in array from elements in array 66%: 100% accuracy + 32% performance\n",
    "a = [3, 1, 2, 3, 6]\n",
    "\n",
    "def solution(a):\n",
    "    from math import sqrt\n",
    "    from collections import Counter\n",
    "    elem_max = max(a)\n",
    "    length = len(a)\n",
    "    count = dict(Counter(a)) #count number of elements occurrences\n",
    "    res = []\n",
    "\n",
    "    divisors = {} #every element has divisor with value 1\n",
    "    for elem in a:\n",
    "        divisors[elem] = [1]  \n",
    "\n",
    "    for factor in range(2, int(sqrt(elem_max))+1): #searching all factors before sqrt(elem_max)\n",
    "        elem = factor\n",
    "        while elem  <= elem_max:\n",
    "                if elem in divisors.keys() and factor not in divisors[elem]:\n",
    "                    divisors[elem].append(factor)\n",
    "                elem += factor\n",
    "\n",
    "    for elem in divisors.keys(): #searching all factors after sqrt(elem_max)\n",
    "            temp = [int(elem/factor) for factor in divisors[elem]]\n",
    "            temp = [factor for factor in temp if factor not in divisors[elem]] #filtering the duplicate divisors\n",
    "            divisors[elem].extend(temp)\n",
    "\n",
    "    for elem in a:\n",
    "        res.append(length - sum([value for key, value in count.items() if key in divisors[elem]])) #calculating non-divisors\n",
    "    \n",
    "    return res\n",
    "\n",
    "solution(a)"
   ]
  },
  {
   "cell_type": "code",
   "execution_count": 17,
   "metadata": {},
   "outputs": [
    {
     "data": {
      "text/plain": [
       "[10, 4, 0]"
      ]
     },
     "execution_count": 17,
     "metadata": {},
     "output_type": "execute_result"
    }
   ],
   "source": [
    "#count number of semiprimes in array 55%: 100% accuracy + 10% performance\n",
    "#(26, [1, 4, 16], [26, 10, 20]) expected [10, 4, 0]\n",
    "n=26\n",
    "p=[1, 4, 16]\n",
    "q=[26, 10, 20]\n",
    "\n",
    "def solution(n, p, q):\n",
    "    from math import sqrt\n",
    "    res = [0]*len(p)\n",
    "    tmp = []\n",
    "    lst = list(range(2, n+1))\n",
    "    \n",
    "    for i in range(len(lst)):\n",
    "        for j in range(i+1):        \n",
    "            if lst[j] <= sqrt(lst[i]) and lst[i]%lst[j] == 0:\n",
    "                tmp.append(lst[i])\n",
    "                break\n",
    "    \n",
    "    lst = tmp\n",
    "    tmp = []\n",
    "    for i in range(len(lst)):\n",
    "        for j in range(i):        \n",
    "            if lst[i]%lst[j] == 0:\n",
    "                tmp.append(lst[i])\n",
    "                break\n",
    "    \n",
    "    lst = [x for x in lst if x not in set(tmp)]\n",
    "      \n",
    "    for i in range(len(p)):\n",
    "        res[i] = len([x for x in lst if x>=p[i] and x<=q[i]])\n",
    "        \n",
    "    return res\n",
    "\n",
    "solution(n, p, q)"
   ]
  },
  {
   "cell_type": "code",
   "execution_count": 22,
   "metadata": {},
   "outputs": [
    {
     "data": {
      "text/plain": [
       "2"
      ]
     },
     "execution_count": 22,
     "metadata": {},
     "output_type": "execute_result"
    }
   ],
   "source": [
    "#find number of possible eaten chocolates laid in circle (n - number of chocolates, m - eating step)\n",
    "#process completes when the first wrapper will be found\n",
    "#100% accuracy\n",
    "\n",
    "def gcd(n, m):\n",
    "    if n == m:\n",
    "        return n\n",
    "    elif max(n,m)%min(n,m) == 0:\n",
    "        return min(n,m)\n",
    "    else:\n",
    "        return gcd(min(n,m), max(n,m)%min(n,m)) \n",
    "\n",
    "def solution(n, m):\n",
    "    if n==1: return 1\n",
    "    else:\n",
    "        return int(n/gcd(n, m))\n",
    "        \n",
    "\n",
    "solution(2, 3)\n",
    "#gcd(123,321)"
   ]
  },
  {
   "cell_type": "code",
   "execution_count": 25,
   "metadata": {},
   "outputs": [
    {
     "data": {
      "text/plain": [
       "[2, 3, 5, 7]"
      ]
     },
     "execution_count": 25,
     "metadata": {},
     "output_type": "execute_result"
    }
   ],
   "source": [
    "def get_primes(n):\n",
    "    from math import sqrt\n",
    "    a = range(2, n+1)\n",
    "    \n",
    "    tmp = []\n",
    "    for i in range(len(a)):\n",
    "        for j in range(i):\n",
    "            if a[i]%a[j]==0 and a[j]<=sqrt(a[i]):\n",
    "                tmp.append(a[i])\n",
    "                break\n",
    "    return [x for x in a if x not in tmp]\n",
    "\n",
    "get_primes(10)"
   ]
  },
  {
   "cell_type": "code",
   "execution_count": null,
   "metadata": {},
   "outputs": [],
   "source": [
    "def gcd(n,m):\n",
    "    if n == m: return n\n",
    "    elif max(n,m)%min(n,m)==0: return min(n,m)\n",
    "    else: return gcd(min(n,m), max(n,m)%min(n,m))\n",
    "    \n",
    "gcd(30,10)\n",
    "# you can write to stdout for debugging purposes, e.g.\n",
    "# print(\"this is a debug message\")\n",
    "\n",
    "def get_primes(n):\n",
    "    from math import sqrt\n",
    "    a = range(2, n)\n",
    "    \n",
    "    tmp = []\n",
    "    for i in range(len(a)):\n",
    "        for j in range(i):\n",
    "            if a[i]%a[j]==0 and a[j]<=sqrt(a[i]):\n",
    "                tmp.append(a[i])\n",
    "                break\n",
    "    return [x for x in a if x not in tmp]\n",
    "    \n",
    "\n",
    "def gcd(n,m):\n",
    "    if n == m: return n\n",
    "    elif max(n,m)%min(n,m)==0: return min(n,m)\n",
    "    else: return gcd(min(n,m), max(n,m)%min(n,m))\n",
    "\n",
    "def solution(a, b):\n",
    "    from math import sqrt\n",
    "    res = 0\n",
    "    \n",
    "    for i in range(len(a)):\n",
    "        if a[i]!=1 and b[i]!=1:\n",
    "            gr_del = gcd(a[i],b[i])\n",
    "            \n",
    "            if gr_del > 1:\n",
    "                primes = get_primes(max(a[i],b[i]))\n",
    "                \n",
    "                tmp_a = []\n",
    "                tmp_b = []\n",
    "                for j in range(len(primes)):\n",
    "                    if a[i]%primes[j]==0 and primes[j]<sqrt(a[i]) and primes[j] not in tmp_a:\n",
    "                        tmp_a.append(primes[j])\n",
    "                        tmp = int(a[i]/primes[j])\n",
    "                        if tmp not in tmp_a and tmp in primes:\n",
    "                            tmp_a.append(tmp)\n",
    "                    elif primes[j]==sqrt(a[i]) and primes[j] not in tmp_a:\n",
    "                        tmp_a.append(primes[j])\n",
    "                    elif primes[j]>sqrt(a[i]): break\n",
    "                \n",
    "                for j in range(len(primes)):  \n",
    "                    if b[i]%primes[j]==0 and primes[j]<sqrt(b[i]) and primes[j] not in tmp_b:\n",
    "                        tmp_b.append(primes[j])\n",
    "                        tmp = int(b[i]/primes[j])\n",
    "                        if tmp not in tmp_b and tmp in primes:\n",
    "                            tmp_b.append(int(b[i]/primes[j]))\n",
    "                    elif primes[j]==sqrt(b[i]):\n",
    "                        tmp_b.append(primes[j])\n",
    "                    elif primes[j]>sqrt(b[i]): break\n",
    "                    \n",
    "                if tmp_a != [] and tmp_a == tmp_b: res +=1\n",
    "        else: res +=1\n",
    "    return res\n",
    "\n",
    "a = [2,1,2]\n",
    "b = [1,2,2]\n",
    "solution(a,b)"
   ]
  },
  {
   "cell_type": "code",
   "execution_count": 6,
   "metadata": {},
   "outputs": [],
   "source": []
  },
  {
   "cell_type": "code",
   "execution_count": null,
   "metadata": {},
   "outputs": [],
   "source": []
  }
 ],
 "metadata": {
  "kernelspec": {
   "display_name": "Python 3",
   "language": "python",
   "name": "python3"
  },
  "language_info": {
   "codemirror_mode": {
    "name": "ipython",
    "version": 3
   },
   "file_extension": ".py",
   "mimetype": "text/x-python",
   "name": "python",
   "nbconvert_exporter": "python",
   "pygments_lexer": "ipython3",
   "version": "3.6.4"
  }
 },
 "nbformat": 4,
 "nbformat_minor": 2
}
